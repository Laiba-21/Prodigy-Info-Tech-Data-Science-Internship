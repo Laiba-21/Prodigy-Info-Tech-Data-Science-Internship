{
 "cells": [
  {
   "cell_type": "code",
   "execution_count": 8,
   "id": "eef933b3",
   "metadata": {},
   "outputs": [],
   "source": [
    "import pandas as pd\n",
    "import numpy as np\n",
    "import matplotlib.pyplot as plt\n",
    "import seaborn as sns"
   ]
  },
  {
   "cell_type": "code",
   "execution_count": 18,
   "id": "83aec260",
   "metadata": {},
   "outputs": [],
   "source": [
    "Superstore = pd.read_excel(\"D://Datasets//Superstore.xlsx\")"
   ]
  },
  {
   "cell_type": "code",
   "execution_count": 20,
   "id": "e4eeff05",
   "metadata": {},
   "outputs": [
    {
     "data": {
      "text/html": [
       "<div>\n",
       "<style scoped>\n",
       "    .dataframe tbody tr th:only-of-type {\n",
       "        vertical-align: middle;\n",
       "    }\n",
       "\n",
       "    .dataframe tbody tr th {\n",
       "        vertical-align: top;\n",
       "    }\n",
       "\n",
       "    .dataframe thead th {\n",
       "        text-align: right;\n",
       "    }\n",
       "</style>\n",
       "<table border=\"1\" class=\"dataframe\">\n",
       "  <thead>\n",
       "    <tr style=\"text-align: right;\">\n",
       "      <th></th>\n",
       "      <th>Row ID</th>\n",
       "      <th>Order ID</th>\n",
       "      <th>Order Date</th>\n",
       "      <th>Ship Date</th>\n",
       "      <th>Ship Mode</th>\n",
       "      <th>Customer ID</th>\n",
       "      <th>Customer Name</th>\n",
       "      <th>Segment</th>\n",
       "      <th>Country</th>\n",
       "      <th>City</th>\n",
       "      <th>...</th>\n",
       "      <th>Postal Code</th>\n",
       "      <th>Region</th>\n",
       "      <th>Product ID</th>\n",
       "      <th>Category</th>\n",
       "      <th>Sub-Category</th>\n",
       "      <th>Product Name</th>\n",
       "      <th>Sales</th>\n",
       "      <th>Quantity</th>\n",
       "      <th>Discount</th>\n",
       "      <th>Profit</th>\n",
       "    </tr>\n",
       "  </thead>\n",
       "  <tbody>\n",
       "    <tr>\n",
       "      <th>0</th>\n",
       "      <td>1</td>\n",
       "      <td>CA-2016-152156</td>\n",
       "      <td>2016-08-11 00:00:00</td>\n",
       "      <td>2016-11-11 00:00:00</td>\n",
       "      <td>Second Class</td>\n",
       "      <td>CG-12520</td>\n",
       "      <td>Claire Gute</td>\n",
       "      <td>Consumer</td>\n",
       "      <td>United States</td>\n",
       "      <td>Henderson</td>\n",
       "      <td>...</td>\n",
       "      <td>42420</td>\n",
       "      <td>South</td>\n",
       "      <td>FUR-BO-10001798</td>\n",
       "      <td>Furniture</td>\n",
       "      <td>Bookcases</td>\n",
       "      <td>Bush Somerset Collection Bookcase</td>\n",
       "      <td>261.9600</td>\n",
       "      <td>2</td>\n",
       "      <td>0.00</td>\n",
       "      <td>41.9136</td>\n",
       "    </tr>\n",
       "    <tr>\n",
       "      <th>1</th>\n",
       "      <td>2</td>\n",
       "      <td>CA-2016-152156</td>\n",
       "      <td>2016-08-11 00:00:00</td>\n",
       "      <td>2016-11-11 00:00:00</td>\n",
       "      <td>Second Class</td>\n",
       "      <td>CG-12520</td>\n",
       "      <td>Claire Gute</td>\n",
       "      <td>Consumer</td>\n",
       "      <td>United States</td>\n",
       "      <td>Henderson</td>\n",
       "      <td>...</td>\n",
       "      <td>42420</td>\n",
       "      <td>South</td>\n",
       "      <td>FUR-CH-10000454</td>\n",
       "      <td>Furniture</td>\n",
       "      <td>Chairs</td>\n",
       "      <td>Hon Deluxe Fabric Upholstered Stacking Chairs,...</td>\n",
       "      <td>731.9400</td>\n",
       "      <td>3</td>\n",
       "      <td>0.00</td>\n",
       "      <td>219.5820</td>\n",
       "    </tr>\n",
       "    <tr>\n",
       "      <th>2</th>\n",
       "      <td>3</td>\n",
       "      <td>CA-2016-138688</td>\n",
       "      <td>2016-12-06 00:00:00</td>\n",
       "      <td>6/16/2016</td>\n",
       "      <td>Second Class</td>\n",
       "      <td>DV-13045</td>\n",
       "      <td>Darrin Van Huff</td>\n",
       "      <td>Corporate</td>\n",
       "      <td>United States</td>\n",
       "      <td>Los Angeles</td>\n",
       "      <td>...</td>\n",
       "      <td>90036</td>\n",
       "      <td>West</td>\n",
       "      <td>OFF-LA-10000240</td>\n",
       "      <td>Office Supplies</td>\n",
       "      <td>Labels</td>\n",
       "      <td>Self-Adhesive Address Labels for Typewriters b...</td>\n",
       "      <td>14.6200</td>\n",
       "      <td>2</td>\n",
       "      <td>0.00</td>\n",
       "      <td>6.8714</td>\n",
       "    </tr>\n",
       "    <tr>\n",
       "      <th>3</th>\n",
       "      <td>4</td>\n",
       "      <td>US-2015-108966</td>\n",
       "      <td>2015-11-10 00:00:00</td>\n",
       "      <td>10/18/2015</td>\n",
       "      <td>Standard Class</td>\n",
       "      <td>SO-20335</td>\n",
       "      <td>Sean O'Donnell</td>\n",
       "      <td>Consumer</td>\n",
       "      <td>United States</td>\n",
       "      <td>Fort Lauderdale</td>\n",
       "      <td>...</td>\n",
       "      <td>33311</td>\n",
       "      <td>South</td>\n",
       "      <td>FUR-TA-10000577</td>\n",
       "      <td>Furniture</td>\n",
       "      <td>Tables</td>\n",
       "      <td>Bretford CR4500 Series Slim Rectangular Table</td>\n",
       "      <td>957.5775</td>\n",
       "      <td>5</td>\n",
       "      <td>0.45</td>\n",
       "      <td>-383.0310</td>\n",
       "    </tr>\n",
       "    <tr>\n",
       "      <th>4</th>\n",
       "      <td>5</td>\n",
       "      <td>US-2015-108966</td>\n",
       "      <td>2015-11-10 00:00:00</td>\n",
       "      <td>10/18/2015</td>\n",
       "      <td>Standard Class</td>\n",
       "      <td>SO-20335</td>\n",
       "      <td>Sean O'Donnell</td>\n",
       "      <td>Consumer</td>\n",
       "      <td>United States</td>\n",
       "      <td>Fort Lauderdale</td>\n",
       "      <td>...</td>\n",
       "      <td>33311</td>\n",
       "      <td>South</td>\n",
       "      <td>OFF-ST-10000760</td>\n",
       "      <td>Office Supplies</td>\n",
       "      <td>Storage</td>\n",
       "      <td>Eldon Fold 'N Roll Cart System</td>\n",
       "      <td>22.3680</td>\n",
       "      <td>2</td>\n",
       "      <td>0.20</td>\n",
       "      <td>2.5164</td>\n",
       "    </tr>\n",
       "  </tbody>\n",
       "</table>\n",
       "<p>5 rows × 21 columns</p>\n",
       "</div>"
      ],
      "text/plain": [
       "   Row ID        Order ID           Order Date            Ship Date  \\\n",
       "0       1  CA-2016-152156  2016-08-11 00:00:00  2016-11-11 00:00:00   \n",
       "1       2  CA-2016-152156  2016-08-11 00:00:00  2016-11-11 00:00:00   \n",
       "2       3  CA-2016-138688  2016-12-06 00:00:00            6/16/2016   \n",
       "3       4  US-2015-108966  2015-11-10 00:00:00           10/18/2015   \n",
       "4       5  US-2015-108966  2015-11-10 00:00:00           10/18/2015   \n",
       "\n",
       "        Ship Mode Customer ID    Customer Name    Segment        Country  \\\n",
       "0    Second Class    CG-12520      Claire Gute   Consumer  United States   \n",
       "1    Second Class    CG-12520      Claire Gute   Consumer  United States   \n",
       "2    Second Class    DV-13045  Darrin Van Huff  Corporate  United States   \n",
       "3  Standard Class    SO-20335   Sean O'Donnell   Consumer  United States   \n",
       "4  Standard Class    SO-20335   Sean O'Donnell   Consumer  United States   \n",
       "\n",
       "              City  ... Postal Code  Region       Product ID         Category  \\\n",
       "0        Henderson  ...       42420   South  FUR-BO-10001798        Furniture   \n",
       "1        Henderson  ...       42420   South  FUR-CH-10000454        Furniture   \n",
       "2      Los Angeles  ...       90036    West  OFF-LA-10000240  Office Supplies   \n",
       "3  Fort Lauderdale  ...       33311   South  FUR-TA-10000577        Furniture   \n",
       "4  Fort Lauderdale  ...       33311   South  OFF-ST-10000760  Office Supplies   \n",
       "\n",
       "  Sub-Category                                       Product Name     Sales  \\\n",
       "0    Bookcases                  Bush Somerset Collection Bookcase  261.9600   \n",
       "1       Chairs  Hon Deluxe Fabric Upholstered Stacking Chairs,...  731.9400   \n",
       "2       Labels  Self-Adhesive Address Labels for Typewriters b...   14.6200   \n",
       "3       Tables      Bretford CR4500 Series Slim Rectangular Table  957.5775   \n",
       "4      Storage                     Eldon Fold 'N Roll Cart System   22.3680   \n",
       "\n",
       "   Quantity  Discount    Profit  \n",
       "0         2      0.00   41.9136  \n",
       "1         3      0.00  219.5820  \n",
       "2         2      0.00    6.8714  \n",
       "3         5      0.45 -383.0310  \n",
       "4         2      0.20    2.5164  \n",
       "\n",
       "[5 rows x 21 columns]"
      ]
     },
     "execution_count": 20,
     "metadata": {},
     "output_type": "execute_result"
    }
   ],
   "source": [
    "Superstore.head()\n"
   ]
  },
  {
   "cell_type": "code",
   "execution_count": 21,
   "id": "951061f5",
   "metadata": {},
   "outputs": [
    {
     "data": {
      "text/html": [
       "<div>\n",
       "<style scoped>\n",
       "    .dataframe tbody tr th:only-of-type {\n",
       "        vertical-align: middle;\n",
       "    }\n",
       "\n",
       "    .dataframe tbody tr th {\n",
       "        vertical-align: top;\n",
       "    }\n",
       "\n",
       "    .dataframe thead th {\n",
       "        text-align: right;\n",
       "    }\n",
       "</style>\n",
       "<table border=\"1\" class=\"dataframe\">\n",
       "  <thead>\n",
       "    <tr style=\"text-align: right;\">\n",
       "      <th></th>\n",
       "      <th>Row ID</th>\n",
       "      <th>Order ID</th>\n",
       "      <th>Order Date</th>\n",
       "      <th>Ship Date</th>\n",
       "      <th>Ship Mode</th>\n",
       "      <th>Customer ID</th>\n",
       "      <th>Customer Name</th>\n",
       "      <th>Segment</th>\n",
       "      <th>Country</th>\n",
       "      <th>City</th>\n",
       "      <th>...</th>\n",
       "      <th>Postal Code</th>\n",
       "      <th>Region</th>\n",
       "      <th>Product ID</th>\n",
       "      <th>Category</th>\n",
       "      <th>Sub-Category</th>\n",
       "      <th>Product Name</th>\n",
       "      <th>Sales</th>\n",
       "      <th>Quantity</th>\n",
       "      <th>Discount</th>\n",
       "      <th>Profit</th>\n",
       "    </tr>\n",
       "  </thead>\n",
       "  <tbody>\n",
       "    <tr>\n",
       "      <th>9989</th>\n",
       "      <td>9990</td>\n",
       "      <td>CA-2014-110422</td>\n",
       "      <td>1/21/2014</td>\n",
       "      <td>1/23/2014</td>\n",
       "      <td>Second Class</td>\n",
       "      <td>TB-21400</td>\n",
       "      <td>Tom Boeckenhauer</td>\n",
       "      <td>Consumer</td>\n",
       "      <td>United States</td>\n",
       "      <td>Miami</td>\n",
       "      <td>...</td>\n",
       "      <td>33180</td>\n",
       "      <td>South</td>\n",
       "      <td>FUR-FU-10001889</td>\n",
       "      <td>Furniture</td>\n",
       "      <td>Furnishings</td>\n",
       "      <td>Ultra Door Pull Handle</td>\n",
       "      <td>25.248</td>\n",
       "      <td>3</td>\n",
       "      <td>0.2</td>\n",
       "      <td>4.1028</td>\n",
       "    </tr>\n",
       "    <tr>\n",
       "      <th>9990</th>\n",
       "      <td>9991</td>\n",
       "      <td>CA-2017-121258</td>\n",
       "      <td>2/26/2017</td>\n",
       "      <td>2017-03-03 00:00:00</td>\n",
       "      <td>Standard Class</td>\n",
       "      <td>DB-13060</td>\n",
       "      <td>Dave Brooks</td>\n",
       "      <td>Consumer</td>\n",
       "      <td>United States</td>\n",
       "      <td>Costa Mesa</td>\n",
       "      <td>...</td>\n",
       "      <td>92627</td>\n",
       "      <td>West</td>\n",
       "      <td>FUR-FU-10000747</td>\n",
       "      <td>Furniture</td>\n",
       "      <td>Furnishings</td>\n",
       "      <td>Tenex B1-RE Series Chair Mats for Low Pile Car...</td>\n",
       "      <td>91.960</td>\n",
       "      <td>2</td>\n",
       "      <td>0.0</td>\n",
       "      <td>15.6332</td>\n",
       "    </tr>\n",
       "    <tr>\n",
       "      <th>9991</th>\n",
       "      <td>9992</td>\n",
       "      <td>CA-2017-121258</td>\n",
       "      <td>2/26/2017</td>\n",
       "      <td>2017-03-03 00:00:00</td>\n",
       "      <td>Standard Class</td>\n",
       "      <td>DB-13060</td>\n",
       "      <td>Dave Brooks</td>\n",
       "      <td>Consumer</td>\n",
       "      <td>United States</td>\n",
       "      <td>Costa Mesa</td>\n",
       "      <td>...</td>\n",
       "      <td>92627</td>\n",
       "      <td>West</td>\n",
       "      <td>TEC-PH-10003645</td>\n",
       "      <td>Technology</td>\n",
       "      <td>Phones</td>\n",
       "      <td>Aastra 57i VoIP phone</td>\n",
       "      <td>258.576</td>\n",
       "      <td>2</td>\n",
       "      <td>0.2</td>\n",
       "      <td>19.3932</td>\n",
       "    </tr>\n",
       "    <tr>\n",
       "      <th>9992</th>\n",
       "      <td>9993</td>\n",
       "      <td>CA-2017-121258</td>\n",
       "      <td>2/26/2017</td>\n",
       "      <td>2017-03-03 00:00:00</td>\n",
       "      <td>Standard Class</td>\n",
       "      <td>DB-13060</td>\n",
       "      <td>Dave Brooks</td>\n",
       "      <td>Consumer</td>\n",
       "      <td>United States</td>\n",
       "      <td>Costa Mesa</td>\n",
       "      <td>...</td>\n",
       "      <td>92627</td>\n",
       "      <td>West</td>\n",
       "      <td>OFF-PA-10004041</td>\n",
       "      <td>Office Supplies</td>\n",
       "      <td>Paper</td>\n",
       "      <td>It's Hot Message Books with Stickers, 2 3/4\" x 5\"</td>\n",
       "      <td>29.600</td>\n",
       "      <td>4</td>\n",
       "      <td>0.0</td>\n",
       "      <td>13.3200</td>\n",
       "    </tr>\n",
       "    <tr>\n",
       "      <th>9993</th>\n",
       "      <td>9994</td>\n",
       "      <td>CA-2017-119914</td>\n",
       "      <td>2017-04-05 00:00:00</td>\n",
       "      <td>2017-09-05 00:00:00</td>\n",
       "      <td>Second Class</td>\n",
       "      <td>CC-12220</td>\n",
       "      <td>Chris Cortes</td>\n",
       "      <td>Consumer</td>\n",
       "      <td>United States</td>\n",
       "      <td>Westminster</td>\n",
       "      <td>...</td>\n",
       "      <td>92683</td>\n",
       "      <td>West</td>\n",
       "      <td>OFF-AP-10002684</td>\n",
       "      <td>Office Supplies</td>\n",
       "      <td>Appliances</td>\n",
       "      <td>Acco 7-Outlet Masterpiece Power Center, Wihtou...</td>\n",
       "      <td>243.160</td>\n",
       "      <td>2</td>\n",
       "      <td>0.0</td>\n",
       "      <td>72.9480</td>\n",
       "    </tr>\n",
       "  </tbody>\n",
       "</table>\n",
       "<p>5 rows × 21 columns</p>\n",
       "</div>"
      ],
      "text/plain": [
       "      Row ID        Order ID           Order Date            Ship Date  \\\n",
       "9989    9990  CA-2014-110422            1/21/2014            1/23/2014   \n",
       "9990    9991  CA-2017-121258            2/26/2017  2017-03-03 00:00:00   \n",
       "9991    9992  CA-2017-121258            2/26/2017  2017-03-03 00:00:00   \n",
       "9992    9993  CA-2017-121258            2/26/2017  2017-03-03 00:00:00   \n",
       "9993    9994  CA-2017-119914  2017-04-05 00:00:00  2017-09-05 00:00:00   \n",
       "\n",
       "           Ship Mode Customer ID     Customer Name   Segment        Country  \\\n",
       "9989    Second Class    TB-21400  Tom Boeckenhauer  Consumer  United States   \n",
       "9990  Standard Class    DB-13060       Dave Brooks  Consumer  United States   \n",
       "9991  Standard Class    DB-13060       Dave Brooks  Consumer  United States   \n",
       "9992  Standard Class    DB-13060       Dave Brooks  Consumer  United States   \n",
       "9993    Second Class    CC-12220      Chris Cortes  Consumer  United States   \n",
       "\n",
       "             City  ... Postal Code  Region       Product ID         Category  \\\n",
       "9989        Miami  ...       33180   South  FUR-FU-10001889        Furniture   \n",
       "9990   Costa Mesa  ...       92627    West  FUR-FU-10000747        Furniture   \n",
       "9991   Costa Mesa  ...       92627    West  TEC-PH-10003645       Technology   \n",
       "9992   Costa Mesa  ...       92627    West  OFF-PA-10004041  Office Supplies   \n",
       "9993  Westminster  ...       92683    West  OFF-AP-10002684  Office Supplies   \n",
       "\n",
       "     Sub-Category                                       Product Name    Sales  \\\n",
       "9989  Furnishings                             Ultra Door Pull Handle   25.248   \n",
       "9990  Furnishings  Tenex B1-RE Series Chair Mats for Low Pile Car...   91.960   \n",
       "9991       Phones                              Aastra 57i VoIP phone  258.576   \n",
       "9992        Paper  It's Hot Message Books with Stickers, 2 3/4\" x 5\"   29.600   \n",
       "9993   Appliances  Acco 7-Outlet Masterpiece Power Center, Wihtou...  243.160   \n",
       "\n",
       "      Quantity  Discount   Profit  \n",
       "9989         3       0.2   4.1028  \n",
       "9990         2       0.0  15.6332  \n",
       "9991         2       0.2  19.3932  \n",
       "9992         4       0.0  13.3200  \n",
       "9993         2       0.0  72.9480  \n",
       "\n",
       "[5 rows x 21 columns]"
      ]
     },
     "execution_count": 21,
     "metadata": {},
     "output_type": "execute_result"
    }
   ],
   "source": [
    "Superstore.tail()"
   ]
  },
  {
   "cell_type": "code",
   "execution_count": 105,
   "id": "fa058854",
   "metadata": {},
   "outputs": [
    {
     "data": {
      "text/plain": [
       "array(['Second Class', 'Standard Class', 'First Class', 'Same Day'],\n",
       "      dtype=object)"
      ]
     },
     "execution_count": 105,
     "metadata": {},
     "output_type": "execute_result"
    }
   ],
   "source": [
    "Superstore['Ship Mode'].unique()\n"
   ]
  },
  {
   "cell_type": "code",
   "execution_count": 14,
   "id": "c19c7164",
   "metadata": {},
   "outputs": [
    {
     "name": "stdout",
     "output_type": "stream",
     "text": [
      "(9994, 21)\n"
     ]
    }
   ],
   "source": [
    "# Display Rows & columns\n",
    "\n",
    "print(Superstore.shape)"
   ]
  },
  {
   "cell_type": "code",
   "execution_count": 15,
   "id": "716b9823",
   "metadata": {},
   "outputs": [
    {
     "name": "stdout",
     "output_type": "stream",
     "text": [
      "<class 'pandas.core.frame.DataFrame'>\n",
      "RangeIndex: 9994 entries, 0 to 9993\n",
      "Data columns (total 21 columns):\n",
      " #   Column         Non-Null Count  Dtype  \n",
      "---  ------         --------------  -----  \n",
      " 0   Row ID         9994 non-null   int64  \n",
      " 1   Order ID       9994 non-null   object \n",
      " 2   Order Date     9994 non-null   object \n",
      " 3   Ship Date      9994 non-null   object \n",
      " 4   Ship Mode      9994 non-null   object \n",
      " 5   Customer ID    9994 non-null   object \n",
      " 6   Customer Name  9994 non-null   object \n",
      " 7   Segment        9994 non-null   object \n",
      " 8   Country        9994 non-null   object \n",
      " 9   City           9994 non-null   object \n",
      " 10  State          9994 non-null   object \n",
      " 11  Postal Code    9994 non-null   int64  \n",
      " 12  Region         9994 non-null   object \n",
      " 13  Product ID     9994 non-null   object \n",
      " 14  Category       9994 non-null   object \n",
      " 15  Sub-Category   9994 non-null   object \n",
      " 16  Product Name   9994 non-null   object \n",
      " 17  Sales          9994 non-null   float64\n",
      " 18  Quantity       9994 non-null   int64  \n",
      " 19  Discount       9994 non-null   float64\n",
      " 20  Profit         9994 non-null   float64\n",
      "dtypes: float64(3), int64(3), object(15)\n",
      "memory usage: 1.6+ MB\n",
      "None\n"
     ]
    }
   ],
   "source": [
    "# Data types & non-null counts\n",
    "\n",
    "print(Superstore.info())"
   ]
  },
  {
   "cell_type": "code",
   "execution_count": 16,
   "id": "012d5e17",
   "metadata": {},
   "outputs": [
    {
     "name": "stdout",
     "output_type": "stream",
     "text": [
      "Index(['Row ID', 'Order ID', 'Order Date', 'Ship Date', 'Ship Mode',\n",
      "       'Customer ID', 'Customer Name', 'Segment', 'Country', 'City', 'State',\n",
      "       'Postal Code', 'Region', 'Product ID', 'Category', 'Sub-Category',\n",
      "       'Product Name', 'Sales', 'Quantity', 'Discount', 'Profit'],\n",
      "      dtype='object')\n"
     ]
    }
   ],
   "source": [
    "# Column names\n",
    "\n",
    "print(Superstore.columns)"
   ]
  },
  {
   "cell_type": "code",
   "execution_count": 22,
   "id": "de485696",
   "metadata": {},
   "outputs": [
    {
     "name": "stdout",
     "output_type": "stream",
     "text": [
      "Row ID           0\n",
      "Order ID         0\n",
      "Order Date       0\n",
      "Ship Date        0\n",
      "Ship Mode        0\n",
      "Customer ID      0\n",
      "Customer Name    0\n",
      "Segment          0\n",
      "Country          0\n",
      "City             0\n",
      "State            0\n",
      "Postal Code      0\n",
      "Region           0\n",
      "Product ID       0\n",
      "Category         0\n",
      "Sub-Category     0\n",
      "Product Name     0\n",
      "Sales            0\n",
      "Quantity         0\n",
      "Discount         0\n",
      "Profit           0\n",
      "dtype: int64\n"
     ]
    }
   ],
   "source": [
    "# Count missing values\n",
    "\n",
    "print(Superstore.isnull().sum())"
   ]
  },
  {
   "cell_type": "code",
   "execution_count": 24,
   "id": "f1baa8e3",
   "metadata": {},
   "outputs": [
    {
     "name": "stdout",
     "output_type": "stream",
     "text": [
      "0\n"
     ]
    }
   ],
   "source": [
    "# Count duplicates\n",
    "\n",
    "print(Superstore.duplicated().sum()) "
   ]
  },
  {
   "cell_type": "code",
   "execution_count": 26,
   "id": "41d409d2",
   "metadata": {},
   "outputs": [
    {
     "data": {
      "text/html": [
       "<div>\n",
       "<style scoped>\n",
       "    .dataframe tbody tr th:only-of-type {\n",
       "        vertical-align: middle;\n",
       "    }\n",
       "\n",
       "    .dataframe tbody tr th {\n",
       "        vertical-align: top;\n",
       "    }\n",
       "\n",
       "    .dataframe thead th {\n",
       "        text-align: right;\n",
       "    }\n",
       "</style>\n",
       "<table border=\"1\" class=\"dataframe\">\n",
       "  <thead>\n",
       "    <tr style=\"text-align: right;\">\n",
       "      <th></th>\n",
       "      <th>Order ID</th>\n",
       "      <th>Order Date</th>\n",
       "      <th>Ship Date</th>\n",
       "      <th>Ship Mode</th>\n",
       "      <th>Customer ID</th>\n",
       "      <th>Customer Name</th>\n",
       "      <th>Segment</th>\n",
       "      <th>Country</th>\n",
       "      <th>City</th>\n",
       "      <th>State</th>\n",
       "      <th>Region</th>\n",
       "      <th>Product ID</th>\n",
       "      <th>Category</th>\n",
       "      <th>Sub-Category</th>\n",
       "      <th>Product Name</th>\n",
       "    </tr>\n",
       "  </thead>\n",
       "  <tbody>\n",
       "    <tr>\n",
       "      <th>count</th>\n",
       "      <td>9994</td>\n",
       "      <td>9994</td>\n",
       "      <td>9994</td>\n",
       "      <td>9994</td>\n",
       "      <td>9994</td>\n",
       "      <td>9994</td>\n",
       "      <td>9994</td>\n",
       "      <td>9994</td>\n",
       "      <td>9994</td>\n",
       "      <td>9994</td>\n",
       "      <td>9994</td>\n",
       "      <td>9994</td>\n",
       "      <td>9994</td>\n",
       "      <td>9994</td>\n",
       "      <td>9994</td>\n",
       "    </tr>\n",
       "    <tr>\n",
       "      <th>unique</th>\n",
       "      <td>5009</td>\n",
       "      <td>1237</td>\n",
       "      <td>1334</td>\n",
       "      <td>4</td>\n",
       "      <td>793</td>\n",
       "      <td>793</td>\n",
       "      <td>3</td>\n",
       "      <td>1</td>\n",
       "      <td>531</td>\n",
       "      <td>49</td>\n",
       "      <td>4</td>\n",
       "      <td>1862</td>\n",
       "      <td>3</td>\n",
       "      <td>17</td>\n",
       "      <td>1850</td>\n",
       "    </tr>\n",
       "    <tr>\n",
       "      <th>top</th>\n",
       "      <td>CA-2017-100111</td>\n",
       "      <td>2016-05-09 00:00:00</td>\n",
       "      <td>12/16/2015</td>\n",
       "      <td>Standard Class</td>\n",
       "      <td>WB-21850</td>\n",
       "      <td>William Brown</td>\n",
       "      <td>Consumer</td>\n",
       "      <td>United States</td>\n",
       "      <td>New York City</td>\n",
       "      <td>California</td>\n",
       "      <td>West</td>\n",
       "      <td>OFF-PA-10001970</td>\n",
       "      <td>Office Supplies</td>\n",
       "      <td>Binders</td>\n",
       "      <td>Staple envelope</td>\n",
       "    </tr>\n",
       "    <tr>\n",
       "      <th>freq</th>\n",
       "      <td>14</td>\n",
       "      <td>38</td>\n",
       "      <td>35</td>\n",
       "      <td>5968</td>\n",
       "      <td>37</td>\n",
       "      <td>37</td>\n",
       "      <td>5191</td>\n",
       "      <td>9994</td>\n",
       "      <td>915</td>\n",
       "      <td>2001</td>\n",
       "      <td>3203</td>\n",
       "      <td>19</td>\n",
       "      <td>6026</td>\n",
       "      <td>1523</td>\n",
       "      <td>48</td>\n",
       "    </tr>\n",
       "  </tbody>\n",
       "</table>\n",
       "</div>"
      ],
      "text/plain": [
       "              Order ID           Order Date   Ship Date       Ship Mode  \\\n",
       "count             9994                 9994        9994            9994   \n",
       "unique            5009                 1237        1334               4   \n",
       "top     CA-2017-100111  2016-05-09 00:00:00  12/16/2015  Standard Class   \n",
       "freq                14                   38          35            5968   \n",
       "\n",
       "       Customer ID  Customer Name   Segment        Country           City  \\\n",
       "count         9994           9994      9994           9994           9994   \n",
       "unique         793            793         3              1            531   \n",
       "top       WB-21850  William Brown  Consumer  United States  New York City   \n",
       "freq            37             37      5191           9994            915   \n",
       "\n",
       "             State Region       Product ID         Category Sub-Category  \\\n",
       "count         9994   9994             9994             9994         9994   \n",
       "unique          49      4             1862                3           17   \n",
       "top     California   West  OFF-PA-10001970  Office Supplies      Binders   \n",
       "freq          2001   3203               19             6026         1523   \n",
       "\n",
       "           Product Name  \n",
       "count              9994  \n",
       "unique             1850  \n",
       "top     Staple envelope  \n",
       "freq                 48  "
      ]
     },
     "execution_count": 26,
     "metadata": {},
     "output_type": "execute_result"
    }
   ],
   "source": [
    "# For categorical columns:\n",
    "\n",
    "Superstore.describe(include=['object'])"
   ]
  },
  {
   "cell_type": "code",
   "execution_count": 27,
   "id": "1b08ca89",
   "metadata": {},
   "outputs": [
    {
     "data": {
      "text/html": [
       "<div>\n",
       "<style scoped>\n",
       "    .dataframe tbody tr th:only-of-type {\n",
       "        vertical-align: middle;\n",
       "    }\n",
       "\n",
       "    .dataframe tbody tr th {\n",
       "        vertical-align: top;\n",
       "    }\n",
       "\n",
       "    .dataframe thead th {\n",
       "        text-align: right;\n",
       "    }\n",
       "</style>\n",
       "<table border=\"1\" class=\"dataframe\">\n",
       "  <thead>\n",
       "    <tr style=\"text-align: right;\">\n",
       "      <th></th>\n",
       "      <th>Row ID</th>\n",
       "      <th>Postal Code</th>\n",
       "      <th>Sales</th>\n",
       "      <th>Quantity</th>\n",
       "      <th>Discount</th>\n",
       "      <th>Profit</th>\n",
       "    </tr>\n",
       "  </thead>\n",
       "  <tbody>\n",
       "    <tr>\n",
       "      <th>count</th>\n",
       "      <td>9994.000000</td>\n",
       "      <td>9994.000000</td>\n",
       "      <td>9994.000000</td>\n",
       "      <td>9994.000000</td>\n",
       "      <td>9994.000000</td>\n",
       "      <td>9994.000000</td>\n",
       "    </tr>\n",
       "    <tr>\n",
       "      <th>mean</th>\n",
       "      <td>4997.500000</td>\n",
       "      <td>55190.379428</td>\n",
       "      <td>229.858001</td>\n",
       "      <td>3.789574</td>\n",
       "      <td>0.156203</td>\n",
       "      <td>28.656896</td>\n",
       "    </tr>\n",
       "    <tr>\n",
       "      <th>std</th>\n",
       "      <td>2885.163629</td>\n",
       "      <td>32063.693350</td>\n",
       "      <td>623.245101</td>\n",
       "      <td>2.225110</td>\n",
       "      <td>0.206452</td>\n",
       "      <td>234.260108</td>\n",
       "    </tr>\n",
       "    <tr>\n",
       "      <th>min</th>\n",
       "      <td>1.000000</td>\n",
       "      <td>1040.000000</td>\n",
       "      <td>0.444000</td>\n",
       "      <td>1.000000</td>\n",
       "      <td>0.000000</td>\n",
       "      <td>-6599.978000</td>\n",
       "    </tr>\n",
       "    <tr>\n",
       "      <th>25%</th>\n",
       "      <td>2499.250000</td>\n",
       "      <td>23223.000000</td>\n",
       "      <td>17.280000</td>\n",
       "      <td>2.000000</td>\n",
       "      <td>0.000000</td>\n",
       "      <td>1.728750</td>\n",
       "    </tr>\n",
       "    <tr>\n",
       "      <th>50%</th>\n",
       "      <td>4997.500000</td>\n",
       "      <td>56430.500000</td>\n",
       "      <td>54.490000</td>\n",
       "      <td>3.000000</td>\n",
       "      <td>0.200000</td>\n",
       "      <td>8.666500</td>\n",
       "    </tr>\n",
       "    <tr>\n",
       "      <th>75%</th>\n",
       "      <td>7495.750000</td>\n",
       "      <td>90008.000000</td>\n",
       "      <td>209.940000</td>\n",
       "      <td>5.000000</td>\n",
       "      <td>0.200000</td>\n",
       "      <td>29.364000</td>\n",
       "    </tr>\n",
       "    <tr>\n",
       "      <th>max</th>\n",
       "      <td>9994.000000</td>\n",
       "      <td>99301.000000</td>\n",
       "      <td>22638.480000</td>\n",
       "      <td>14.000000</td>\n",
       "      <td>0.800000</td>\n",
       "      <td>8399.976000</td>\n",
       "    </tr>\n",
       "  </tbody>\n",
       "</table>\n",
       "</div>"
      ],
      "text/plain": [
       "            Row ID   Postal Code         Sales     Quantity     Discount  \\\n",
       "count  9994.000000   9994.000000   9994.000000  9994.000000  9994.000000   \n",
       "mean   4997.500000  55190.379428    229.858001     3.789574     0.156203   \n",
       "std    2885.163629  32063.693350    623.245101     2.225110     0.206452   \n",
       "min       1.000000   1040.000000      0.444000     1.000000     0.000000   \n",
       "25%    2499.250000  23223.000000     17.280000     2.000000     0.000000   \n",
       "50%    4997.500000  56430.500000     54.490000     3.000000     0.200000   \n",
       "75%    7495.750000  90008.000000    209.940000     5.000000     0.200000   \n",
       "max    9994.000000  99301.000000  22638.480000    14.000000     0.800000   \n",
       "\n",
       "            Profit  \n",
       "count  9994.000000  \n",
       "mean     28.656896  \n",
       "std     234.260108  \n",
       "min   -6599.978000  \n",
       "25%       1.728750  \n",
       "50%       8.666500  \n",
       "75%      29.364000  \n",
       "max    8399.976000  "
      ]
     },
     "execution_count": 27,
     "metadata": {},
     "output_type": "execute_result"
    }
   ],
   "source": [
    "# For numerical columns:\n",
    "\n",
    "Superstore.describe()"
   ]
  },
  {
   "cell_type": "code",
   "execution_count": 86,
   "id": "c0eecb66",
   "metadata": {},
   "outputs": [],
   "source": [
    "# Remove leading/trailing spaces from all string columns\n",
    "\n",
    "Superstore = Superstore.apply(lambda col: col.str.strip() if col.dtype == \"object\" else col)\n"
   ]
  },
  {
   "cell_type": "code",
   "execution_count": 87,
   "id": "6c004e8d",
   "metadata": {},
   "outputs": [],
   "source": [
    "#Data Types and Conversion\n",
    "\n",
    "Superstore['Order Date'] = pd.to_datetime(Superstore['Order Date'])\n",
    "Superstore['Ship Date'] = pd.to_datetime(Superstore['Ship Date'])\n"
   ]
  },
  {
   "cell_type": "code",
   "execution_count": 88,
   "id": "3b4d1005",
   "metadata": {
    "scrolled": true
   },
   "outputs": [
    {
     "name": "stdout",
     "output_type": "stream",
     "text": [
      "Row ID: 9994 unique values\n",
      "Order ID: 5009 unique values\n",
      "Order Date: 1237 unique values\n",
      "Ship Date: 1334 unique values\n",
      "Ship Mode: 4 unique values\n",
      "Customer ID: 793 unique values\n",
      "Customer Name: 793 unique values\n",
      "Segment: 3 unique values\n",
      "Country: 1 unique values\n",
      "City: 531 unique values\n",
      "State: 49 unique values\n",
      "Postal Code: 631 unique values\n",
      "Region: 4 unique values\n",
      "Product ID: 1862 unique values\n",
      "Category: 3 unique values\n",
      "Sub-Category: 17 unique values\n",
      "Product Name: 1850 unique values\n",
      "Sales: 5825 unique values\n",
      "Quantity: 14 unique values\n",
      "Discount: 12 unique values\n",
      "Profit: 7287 unique values\n",
      "Shipping_Days: 145 unique values\n"
     ]
    }
   ],
   "source": [
    "#unique values in every column\n",
    "\n",
    "for col in Superstore.columns:\n",
    "    print(f\"{col}: {Superstore[col].nunique()} unique values\")\n"
   ]
  },
  {
   "cell_type": "code",
   "execution_count": 89,
   "id": "f7448f7a",
   "metadata": {},
   "outputs": [
    {
     "data": {
      "image/png": "[encoded data removed]",
      "text/plain": [
       "<Figure size 432x288 with 1 Axes>"
      ]
     },
     "metadata": {
      "needs_background": "light"
     },
     "output_type": "display_data"
    }
   ],
   "source": [
    "sns.histplot(Superstore['Sales'], bins=10, kde=True)\n",
    "plt.show()"
   ]
  },
  {
   "cell_type": "code",
   "execution_count": 90,
   "id": "70a783d0",
   "metadata": {},
   "outputs": [
    {
     "data": {
      "image/png": "[encoded data removed]",
      "text/plain": [
       "<Figure size 432x288 with 1 Axes>"
      ]
     },
     "metadata": {
      "needs_background": "light"
     },
     "output_type": "display_data"
    }
   ],
   "source": [
    "sns.histplot(Superstore['Profit'], bins=10, kde=True)\n",
    "plt.show()"
   ]
  },
  {
   "cell_type": "code",
   "execution_count": 91,
   "id": "15849deb",
   "metadata": {},
   "outputs": [
    {
     "data": {
      "image/png": "[encoded data removed]",
      "text/plain": [
       "<Figure size 432x288 with 1 Axes>"
      ]
     },
     "metadata": {
      "needs_background": "light"
     },
     "output_type": "display_data"
    }
   ],
   "source": [
    "# countplot for the category (furniture, technology and office supplies)\n",
    "\n",
    "sns.countplot(data=Superstore, x='Category')\n",
    "plt.show()"
   ]
  },
  {
   "cell_type": "code",
   "execution_count": 92,
   "id": "fdf97db4",
   "metadata": {},
   "outputs": [
    {
     "data": {
      "image/png": "[encoded data removed]",
      "text/plain": [
       "<Figure size 576x360 with 1 Axes>"
      ]
     },
     "metadata": {
      "needs_background": "light"
     },
     "output_type": "display_data"
    }
   ],
   "source": [
    "#countplot for sub-category\n",
    "\n",
    "plt.figure(figsize=(8, 5))\n",
    "ax = sns.countplot(data=Superstore, x='Sub-Category')\n",
    "\n",
    "# Add labels\n",
    "#for container in ax.containers:\n",
    "    #ax.bar_label(container)\n",
    "\n",
    "plt.title(\"Total Sales by Sub-Catogory\")\n",
    "plt.xticks(rotation=90)\n",
    "plt.show()"
   ]
  },
  {
   "cell_type": "code",
   "execution_count": 93,
   "id": "94b63a52",
   "metadata": {},
   "outputs": [
    {
     "data": {
      "image/png": "[encoded data removed]",
      "text/plain": [
       "<Figure size 432x288 with 1 Axes>"
      ]
     },
     "metadata": {
      "needs_background": "light"
     },
     "output_type": "display_data"
    }
   ],
   "source": [
    "#Performance of Sales\n",
    "\n",
    "sns.scatterplot(x='Sales', y='Profit', data=Superstore)\n",
    "plt.show()"
   ]
  },
  {
   "cell_type": "code",
   "execution_count": 94,
   "id": "05dff9ed",
   "metadata": {},
   "outputs": [
    {
     "data": {
      "image/png": "[encoded data removed]",
      "text/plain": [
       "<Figure size 432x288 with 1 Axes>"
      ]
     },
     "metadata": {
      "needs_background": "light"
     },
     "output_type": "display_data"
    }
   ],
   "source": [
    "sns.scatterplot(data=Superstore, x='Discount', y='Profit')\n",
    "plt.show()"
   ]
  },
  {
   "cell_type": "code",
   "execution_count": 95,
   "id": "9d94cc30",
   "metadata": {},
   "outputs": [
    {
     "data": {
      "image/png": "[encoded data removed]",
      "text/plain": [
       "<Figure size 432x288 with 1 Axes>"
      ]
     },
     "metadata": {
      "needs_background": "light"
     },
     "output_type": "display_data"
    }
   ],
   "source": [
    "#Sales by Catogory\n",
    "sns.boxplot(x='Category', y='Sales', data=Superstore)\n",
    "plt.show()"
   ]
  },
  {
   "cell_type": "code",
   "execution_count": 96,
   "id": "37e73f3c",
   "metadata": {},
   "outputs": [
    {
     "name": "stdout",
     "output_type": "stream",
     "text": [
      "### Top Profitable Products ### Product Name\n",
      "Canon imageCLASS 2200 Advanced Copier                                          25199.9280\n",
      "Fellowes PB500 Electric Punch Plastic Comb Binding Machine with Manual Bind     7753.0390\n",
      "Hewlett Packard LaserJet 3310 Copier                                            6983.8836\n",
      "Canon PC1060 Personal Laser Copier                                              4570.9347\n",
      "HP Designjet T520 Inkjet Large Format Printer - 24\" Color                       4094.9766\n",
      "Ativa V4110MDD Micro-Cut Shredder                                               3772.9461\n",
      "3D Systems Cube Printer, 2nd Generation, Magenta                                3717.9714\n",
      "Plantronics Savi W720 Multi-Device Wireless Headset System                      3696.2820\n",
      "Ibico EPK-21 Electric Binding System                                            3345.2823\n",
      "Zebra ZM400 Thermal Label Printer                                               3343.5360\n",
      "Name: Profit, dtype: float64\n"
     ]
    }
   ],
   "source": [
    "top_products = Superstore.groupby('Product Name')['Profit'].sum().sort_values(ascending=False).head(10)\n",
    "\n",
    "print(\"### Top Profitable Products ###\", top_products)"
   ]
  },
  {
   "cell_type": "code",
   "execution_count": 97,
   "id": "63bdaeff",
   "metadata": {},
   "outputs": [
    {
     "data": {
      "text/html": [
       "<div>\n",
       "<style scoped>\n",
       "    .dataframe tbody tr th:only-of-type {\n",
       "        vertical-align: middle;\n",
       "    }\n",
       "\n",
       "    .dataframe tbody tr th {\n",
       "        vertical-align: top;\n",
       "    }\n",
       "\n",
       "    .dataframe thead th {\n",
       "        text-align: right;\n",
       "    }\n",
       "</style>\n",
       "<table border=\"1\" class=\"dataframe\">\n",
       "  <thead>\n",
       "    <tr style=\"text-align: right;\">\n",
       "      <th>Ship Mode</th>\n",
       "      <th>First Class</th>\n",
       "      <th>Same Day</th>\n",
       "      <th>Second Class</th>\n",
       "      <th>Standard Class</th>\n",
       "    </tr>\n",
       "    <tr>\n",
       "      <th>Category</th>\n",
       "      <th></th>\n",
       "      <th></th>\n",
       "      <th></th>\n",
       "      <th></th>\n",
       "    </tr>\n",
       "  </thead>\n",
       "  <tbody>\n",
       "    <tr>\n",
       "      <th>Furniture</th>\n",
       "      <td>327</td>\n",
       "      <td>119</td>\n",
       "      <td>427</td>\n",
       "      <td>1248</td>\n",
       "    </tr>\n",
       "    <tr>\n",
       "      <th>Office Supplies</th>\n",
       "      <td>910</td>\n",
       "      <td>326</td>\n",
       "      <td>1152</td>\n",
       "      <td>3638</td>\n",
       "    </tr>\n",
       "    <tr>\n",
       "      <th>Technology</th>\n",
       "      <td>301</td>\n",
       "      <td>98</td>\n",
       "      <td>366</td>\n",
       "      <td>1082</td>\n",
       "    </tr>\n",
       "  </tbody>\n",
       "</table>\n",
       "</div>"
      ],
      "text/plain": [
       "Ship Mode        First Class  Same Day  Second Class  Standard Class\n",
       "Category                                                            \n",
       "Furniture                327       119           427            1248\n",
       "Office Supplies          910       326          1152            3638\n",
       "Technology               301        98           366            1082"
      ]
     },
     "execution_count": 97,
     "metadata": {},
     "output_type": "execute_result"
    }
   ],
   "source": [
    "pd.crosstab(Superstore['Category'], Superstore['Ship Mode'])\n"
   ]
  },
  {
   "cell_type": "code",
   "execution_count": 98,
   "id": "2d34c118",
   "metadata": {},
   "outputs": [
    {
     "data": {
      "text/plain": [
       "<AxesSubplot:>"
      ]
     },
     "execution_count": 98,
     "metadata": {},
     "output_type": "execute_result"
    },
    {
     "data": {
      "image/png": "[encoded data removed]",
      "text/plain": [
       "<Figure size 432x288 with 2 Axes>"
      ]
     },
     "metadata": {
      "needs_background": "light"
     },
     "output_type": "display_data"
    }
   ],
   "source": [
    "#coorelation between the numeric columns\n",
    "\n",
    "corr = Superstore.corr(numeric_only=True)\n",
    "sns.heatmap(corr, annot=True, cmap='coolwarm')\n"
   ]
  },
  {
   "cell_type": "code",
   "execution_count": 99,
   "id": "a95b2ed7",
   "metadata": {},
   "outputs": [
    {
     "data": {
      "text/plain": [
       "<AxesSubplot:xlabel='Sales'>"
      ]
     },
     "execution_count": 99,
     "metadata": {},
     "output_type": "execute_result"
    },
    {
     "data": {
      "image/png": "[encoded data removed]",
      "text/plain": [
       "<Figure size 432x288 with 1 Axes>"
      ]
     },
     "metadata": {
      "needs_background": "light"
     },
     "output_type": "display_data"
    }
   ],
   "source": [
    "sns.boxplot(x=Superstore['Sales'])\n"
   ]
  },
  {
   "cell_type": "code",
   "execution_count": 100,
   "id": "a6ab6d95",
   "metadata": {},
   "outputs": [
    {
     "name": "stdout",
     "output_type": "stream",
     "text": [
      "### Regional Sales ### Region\n",
      "West       725457.8245\n",
      "East       678781.2400\n",
      "Central    501239.8908\n",
      "South      391721.9050\n",
      "Name: Sales, dtype: float64\n",
      "### City-wise Sales ### City\n",
      "New York City    256368.161\n",
      "Los Angeles      175851.341\n",
      "Seattle          119540.742\n",
      "San Francisco    112669.092\n",
      "Philadelphia     109077.013\n",
      "                    ...    \n",
      "Ormond Beach          2.808\n",
      "Pensacola             2.214\n",
      "Jupiter               2.064\n",
      "Elyria                1.824\n",
      "Abilene               1.392\n",
      "Name: Sales, Length: 531, dtype: float64\n",
      "### States Sales ### State\n",
      "California              457687.6315\n",
      "New York                310876.2710\n",
      "Texas                   170188.0458\n",
      "Washington              138641.2700\n",
      "Pennsylvania            116511.9140\n",
      "Florida                  89473.7080\n",
      "Illinois                 80166.1010\n",
      "Ohio                     78258.1360\n",
      "Michigan                 76269.6140\n",
      "Virginia                 70636.7200\n",
      "North Carolina           55603.1640\n",
      "Indiana                  53555.3600\n",
      "Georgia                  49095.8400\n",
      "Kentucky                 36591.7500\n",
      "New Jersey               35764.3120\n",
      "Arizona                  35282.0010\n",
      "Wisconsin                32114.6100\n",
      "Colorado                 32108.1180\n",
      "Tennessee                30661.8730\n",
      "Minnesota                29863.1500\n",
      "Massachusetts            28634.4340\n",
      "Delaware                 27451.0690\n",
      "Maryland                 23705.5230\n",
      "Rhode Island             22627.9560\n",
      "Missouri                 22205.1500\n",
      "Oklahoma                 19683.3900\n",
      "Alabama                  19510.6400\n",
      "Oregon                   17431.1500\n",
      "Nevada                   16729.1020\n",
      "Connecticut              13384.3570\n",
      "Arkansas                 11678.1300\n",
      "Utah                     11220.0560\n",
      "Mississippi              10771.3400\n",
      "Louisiana                 9217.0300\n",
      "Vermont                   8929.3700\n",
      "South Carolina            8481.7100\n",
      "Nebraska                  7464.9300\n",
      "New Hampshire             7292.5240\n",
      "Montana                   5589.3520\n",
      "New Mexico                4783.5220\n",
      "Iowa                      4579.7600\n",
      "Idaho                     4382.4860\n",
      "Kansas                    2914.3100\n",
      "District of Columbia      2865.0200\n",
      "Wyoming                   1603.1360\n",
      "South Dakota              1315.5600\n",
      "Maine                     1270.5300\n",
      "West Virginia             1209.8240\n",
      "North Dakota               919.9100\n",
      "Name: Sales, dtype: float64\n"
     ]
    }
   ],
   "source": [
    "\n",
    "Regions = Superstore.groupby('Region')['Sales'].sum().sort_values(ascending=False)\n",
    "Cities = Superstore.groupby('City')['Sales'].sum().sort_values(ascending=False)\n",
    "States = Superstore.groupby('State')['Sales'].sum().sort_values(ascending=False)\n",
    "\n",
    "print(\"### Regional Sales ###\", Regions)\n",
    "print(\"### City-wise Sales ###\", Cities)\n",
    "print(\"### States Sales ###\", States)\n"
   ]
  },
  {
   "cell_type": "code",
   "execution_count": 101,
   "id": "d162f7a0",
   "metadata": {},
   "outputs": [
    {
     "data": {
      "text/plain": [
       "Category         Sub-Category\n",
       "Technology       Copiers         55617.8249\n",
       "                 Phones          44515.7306\n",
       "                 Accessories     41936.6357\n",
       "Office Supplies  Paper           34053.5693\n",
       "                 Binders         30221.7633\n",
       "Furniture        Chairs          26590.1663\n",
       "Office Supplies  Storage         21278.8264\n",
       "                 Appliances      18138.0054\n",
       "Furniture        Furnishings     13059.1436\n",
       "Office Supplies  Envelopes        6964.1767\n",
       "                 Art              6527.7870\n",
       "                 Labels           5546.2540\n",
       "Technology       Machines         3384.7569\n",
       "Office Supplies  Fasteners         949.5182\n",
       "                 Supplies        -1189.0995\n",
       "Furniture        Bookcases       -3472.5560\n",
       "                 Tables         -17725.4811\n",
       "Name: Profit, dtype: float64"
      ]
     },
     "execution_count": 101,
     "metadata": {},
     "output_type": "execute_result"
    }
   ],
   "source": [
    "Superstore.groupby(['Category', 'Sub-Category'])['Profit'].sum().sort_values(ascending=False)\n"
   ]
  },
  {
   "cell_type": "code",
   "execution_count": 104,
   "id": "0e482b5e",
   "metadata": {},
   "outputs": [
    {
     "data": {
      "text/plain": [
       "Ship Mode       Segment    \n",
       "Standard Class  Consumer       77924.0490\n",
       "                Corporate      57470.8067\n",
       "                Home Office    28693.9318\n",
       "Second Class    Consumer       24946.9112\n",
       "First Class     Consumer       21374.0436\n",
       "Second Class    Corporate      18225.7131\n",
       "First Class     Corporate      14464.4724\n",
       "Second Class    Home Office    14274.0111\n",
       "First Class     Home Office    13131.3239\n",
       "Same Day        Consumer        9874.2054\n",
       "                Home Office     4199.4117\n",
       "                Corporate       1818.1418\n",
       "Name: Profit, dtype: float64"
      ]
     },
     "execution_count": 104,
     "metadata": {},
     "output_type": "execute_result"
    }
   ],
   "source": [
    "Superstore.groupby(['Ship Mode', 'Segment'])['Profit'].sum().sort_values(ascending=False)"
   ]
  },
  {
   "cell_type": "code",
   "execution_count": 103,
   "id": "a9eb6d9e",
   "metadata": {},
   "outputs": [
    {
     "data": {
      "image/png": "[encoded data removed]",
      "text/plain": [
       "<Figure size 864x360 with 1 Axes>"
      ]
     },
     "metadata": {
      "needs_background": "light"
     },
     "output_type": "display_data"
    },
    {
     "data": {
      "image/png": "[encoded data removed]",
      "text/plain": [
       "<Figure size 576x360 with 1 Axes>"
      ]
     },
     "metadata": {
      "needs_background": "light"
     },
     "output_type": "display_data"
    }
   ],
   "source": [
    "# Monthly Sales\n",
    "monthly_sales = Superstore.groupby(Superstore['Order Date'].dt.to_period('M'))['Sales'].sum().to_timestamp()\n",
    "\n",
    "plt.figure(figsize=(12, 5))\n",
    "plt.plot(monthly_sales.index, monthly_sales.values, marker='o')\n",
    "plt.title(\"Monthly Sales Trend\")\n",
    "plt.xlabel(\"Month\")\n",
    "plt.ylabel(\"Total Sales\")\n",
    "plt.grid(True)\n",
    "plt.show()\n",
    "\n",
    "# Yearly Sales\n",
    "yearly_sales = Superstore.groupby(Superstore['Order Date'].dt.year)['Sales'].sum()\n",
    "\n",
    "plt.figure(figsize=(8, 5))\n",
    "plt.bar(yearly_sales.index, yearly_sales.values)\n",
    "plt.title(\"Yearly Sales\")\n",
    "plt.xlabel(\"Year\")\n",
    "plt.ylabel(\"Total Sales\")\n",
    "plt.show()\n",
    "\n"
   ]
  },
  {
   "cell_type": "code",
   "execution_count": 107,
   "id": "74e240f6",
   "metadata": {},
   "outputs": [
    {
     "data": {
      "image/png": "[encoded data removed]",
      "text/plain": [
       "<Figure size 576x360 with 1 Axes>"
      ]
     },
     "metadata": {
      "needs_background": "light"
     },
     "output_type": "display_data"
    },
    {
     "name": "stdout",
     "output_type": "stream",
     "text": [
      "Average shipping time: 9.35 days\n"
     ]
    }
   ],
   "source": [
    "Superstore['Shipping_Days'] = (Superstore['Ship Date'] - Superstore['Order Date']).dt.days\n",
    "\n",
    "plt.figure(figsize=(8, 5))\n",
    "sns.histplot(Superstore['Shipping_Days'], bins=20, kde=True)\n",
    "plt.title(\"Distribution of Shipping Time (Days)\")\n",
    "plt.show()\n",
    "\n",
    "avg_shipping_time = Superstore['Shipping_Days'].mean()\n",
    "print(f\"Average shipping time: {avg_shipping_time:.2f} days\")\n"
   ]
  },
  {
   "cell_type": "code",
   "execution_count": 112,
   "id": "033af0eb",
   "metadata": {},
   "outputs": [
    {
     "data": {
      "text/plain": [
       "<AxesSubplot:xlabel='Ship Mode', ylabel='Shipping_Days'>"
      ]
     },
     "execution_count": 112,
     "metadata": {},
     "output_type": "execute_result"
    },
    {
     "data": {
      "image/png": "[encoded data removed]",
      "text/plain": [
       "<Figure size 432x288 with 1 Axes>"
      ]
     },
     "metadata": {
      "needs_background": "light"
     },
     "output_type": "display_data"
    }
   ],
   "source": [
    "Superstore['Shipping_Days'] = (Superstore['Ship Date'] - Superstore['Order Date']).dt.days\n",
    "sns.boxplot(data=Superstore, x='Ship Mode', y='Shipping_Days')\n"
   ]
  },
  {
   "cell_type": "code",
   "execution_count": 84,
   "id": "6fd12ea9",
   "metadata": {},
   "outputs": [
    {
     "name": "stdout",
     "output_type": "stream",
     "text": [
      "    Customer ID First Purchase Date  Number of Purchases  Is Repeat Buyer\n",
      "0      AA-10315          2014-03-31                    5             True\n",
      "1      AA-10375          2014-04-21                    9             True\n",
      "2      AA-10480          2014-04-05                    4             True\n",
      "3      AA-10645          2014-01-12                    6             True\n",
      "4      AB-10015          2014-02-18                    3             True\n",
      "..          ...                 ...                  ...              ...\n",
      "788    XP-21865          2014-01-20                   11             True\n",
      "789    YC-21895          2014-11-17                    5             True\n",
      "790    YS-21880          2015-07-25                    8             True\n",
      "791    ZC-21910          2014-10-13                   13             True\n",
      "792    ZD-21925          2014-08-27                    5             True\n",
      "\n",
      "[793 rows x 4 columns]\n",
      "Repeat Purchase Rate: 98.49%\n"
     ]
    },
    {
     "data": {
      "text/plain": [
       "<AxesSubplot:title={'center':'Active Customers per Month'}, xlabel='Order Date'>"
      ]
     },
     "execution_count": 84,
     "metadata": {},
     "output_type": "execute_result"
    },
    {
     "data": {
      "image/png": "[encoded data removed]",
      "text/plain": [
       "<Figure size 720x360 with 1 Axes>"
      ]
     },
     "metadata": {
      "needs_background": "light"
     },
     "output_type": "display_data"
    }
   ],
   "source": [
    "# First Purchase Date\n",
    "first_purchase = Superstore.groupby('Customer ID')['Order Date'].min().reset_index()\n",
    "first_purchase.columns = ['Customer ID', 'First Purchase Date']\n",
    "\n",
    "#Number of Orders per Customer\n",
    "order_counts = Superstore.groupby('Customer ID')['Order Date'].nunique().reset_index()\n",
    "order_counts.columns = ['Customer ID', 'Number of Purchases']\n",
    "\n",
    "# Merge & Identify Repeat Buyers\n",
    "customer_purchase_info = first_purchase.merge(order_counts, on='Customer ID')\n",
    "customer_purchase_info['Is Repeat Buyer'] = customer_purchase_info['Number of Purchases'] > 1\n",
    "print(customer_purchase_info)\n",
    "\n",
    "# Repeat Purchase Trend Over Time\n",
    "repeat_trend = Superstore.groupby(Superstore['Order Date'].dt.to_period('M'))['Customer ID'].nunique()\n",
    "repeat_trend.plot(figsize=(10,5), title=\"Active Customers per Month\")\n"
   ]
  },
  {
   "cell_type": "code",
   "execution_count": 110,
   "id": "ff720127",
   "metadata": {},
   "outputs": [
    {
     "name": "stdout",
     "output_type": "stream",
     "text": [
      "      Row ID        Order ID Order Date  Ship Date       Ship Mode  \\\n",
      "2          3  CA-2016-138688 2016-12-06 2016-06-16    Second Class   \n",
      "3          4  US-2015-108966 2015-11-10 2015-10-18  Standard Class   \n",
      "4          5  US-2015-108966 2015-11-10 2015-10-18  Standard Class   \n",
      "5          6  CA-2014-115812 2014-09-06 2014-06-14  Standard Class   \n",
      "6          7  CA-2014-115812 2014-09-06 2014-06-14  Standard Class   \n",
      "...      ...             ...        ...        ...             ...   \n",
      "9944    9945  CA-2015-145415 2015-12-04 2015-04-17    Second Class   \n",
      "9970    9971  CA-2015-103772 2015-06-28 2015-02-07  Standard Class   \n",
      "9971    9972  CA-2015-103772 2015-06-28 2015-02-07  Standard Class   \n",
      "9972    9973  CA-2016-130225 2016-11-09 2016-09-17  Standard Class   \n",
      "9986    9987  CA-2016-125794 2016-09-29 2016-03-10  Standard Class   \n",
      "\n",
      "     Customer ID    Customer Name      Segment        Country  \\\n",
      "2       DV-13045  Darrin Van Huff    Corporate  United States   \n",
      "3       SO-20335   Sean O'Donnell     Consumer  United States   \n",
      "4       SO-20335   Sean O'Donnell     Consumer  United States   \n",
      "5       BH-11710  Brosina Hoffman     Consumer  United States   \n",
      "6       BH-11710  Brosina Hoffman     Consumer  United States   \n",
      "...          ...              ...          ...            ...   \n",
      "9944    RD-19660   Robert Dilbeck  Home Office  United States   \n",
      "9970    MP-17470      Mark Packer  Home Office  United States   \n",
      "9971    MP-17470      Mark Packer  Home Office  United States   \n",
      "9972    RC-19960       Ryan Crowe     Consumer  United States   \n",
      "9986    ML-17410     Maris LaWare     Consumer  United States   \n",
      "\n",
      "                 City  ...   Region       Product ID         Category  \\\n",
      "2         Los Angeles  ...     West  OFF-LA-10000240  Office Supplies   \n",
      "3     Fort Lauderdale  ...    South  FUR-TA-10000577        Furniture   \n",
      "4     Fort Lauderdale  ...    South  OFF-ST-10000760  Office Supplies   \n",
      "5         Los Angeles  ...     West  FUR-FU-10001487        Furniture   \n",
      "6         Los Angeles  ...     West  OFF-AR-10002833  Office Supplies   \n",
      "...               ...  ...      ...              ...              ...   \n",
      "9944          Seattle  ...     West  OFF-ST-10000419  Office Supplies   \n",
      "9970           Smyrna  ...    South  OFF-BI-10002867  Office Supplies   \n",
      "9971           Smyrna  ...    South  OFF-AR-10000538  Office Supplies   \n",
      "9972          Houston  ...  Central  OFF-EN-10000056  Office Supplies   \n",
      "9986      Los Angeles  ...     West  TEC-AC-10003399       Technology   \n",
      "\n",
      "     Sub-Category                                       Product Name  \\\n",
      "2          Labels  Self-Adhesive Address Labels for Typewriters b...   \n",
      "3          Tables      Bretford CR4500 Series Slim Rectangular Table   \n",
      "4         Storage                     Eldon Fold 'N Roll Cart System   \n",
      "5     Furnishings  Eldon Expressions Wood and Plastic Desk Access...   \n",
      "6             Art                                         Newell 322   \n",
      "...           ...                                                ...   \n",
      "9944      Storage                         Rogers Jumbo File, Granite   \n",
      "9970      Binders            GBC Recycled Regency Composition Covers   \n",
      "9971          Art  Boston Model 1800 Electric Pencil Sharpener, Gray   \n",
      "9972    Envelopes                        Cameo Buff Policy Envelopes   \n",
      "9986  Accessories  Memorex Mini Travel Drive 64 GB USB 2.0 Flash ...   \n",
      "\n",
      "         Sales Quantity  Discount    Profit  Shipping_Days  \n",
      "2      14.6200        2      0.00    6.8714           -173  \n",
      "3     957.5775        5      0.45 -383.0310            -23  \n",
      "4      22.3680        2      0.20    2.5164            -23  \n",
      "5      48.8600        7      0.00   14.1694            -84  \n",
      "6       7.2800        4      0.00    1.9656            -84  \n",
      "...        ...      ...       ...       ...            ...  \n",
      "9944   40.7400        3      0.00    0.4074           -231  \n",
      "9970  119.5600        2      0.00   54.9976           -141  \n",
      "9971  140.7500        5      0.00   42.2250           -141  \n",
      "9972   99.5680        2      0.20   33.6042            -53  \n",
      "9986   36.2400        1      0.00   15.2208           -203  \n",
      "\n",
      "[1708 rows x 22 columns]\n"
     ]
    },
    {
     "data": {
      "text/plain": [
       "count    1708.000000\n",
       "mean      147.812061\n",
       "std        84.735118\n",
       "min        20.000000\n",
       "25%        82.000000\n",
       "50%       143.000000\n",
       "75%       227.000000\n",
       "max       322.000000\n",
       "dtype: float64"
      ]
     },
     "execution_count": 110,
     "metadata": {},
     "output_type": "execute_result"
    }
   ],
   "source": [
    "mask = Superstore['Shipping_Days'] < 0\n",
    "df_neg = Superstore[mask]\n",
    "print(df_neg)\n",
    "swapped_days = (df_neg['Order Date'] - df_neg['Ship Date']).dt.days\n",
    "swapped_days.describe()\n"
   ]
  },
  {
   "cell_type": "code",
   "execution_count": null,
   "id": "a56bab2b",
   "metadata": {},
   "outputs": [],
   "source": []
  },
  {
   "cell_type": "code",
   "execution_count": 113,
   "id": "627840dd",
   "metadata": {},
   "outputs": [
    {
     "name": "stdout",
     "output_type": "stream",
     "text": [
      "count    5753.000000\n",
      "mean        6.626108\n",
      "std        10.469081\n",
      "min         0.000000\n",
      "25%         2.000000\n",
      "50%         4.000000\n",
      "75%         5.000000\n",
      "max        60.000000\n",
      "Name: Shipping_Days, dtype: float64\n"
     ]
    },
    {
     "data": {
      "text/plain": [
       "<AxesSubplot:xlabel='Ship Mode', ylabel='Shipping_Days'>"
      ]
     },
     "execution_count": 113,
     "metadata": {},
     "output_type": "execute_result"
    },
    {
     "data": {
      "image/png": "[encoded data removed]",
      "text/plain": [
       "<Figure size 432x288 with 1 Axes>"
      ]
     },
     "metadata": {
      "needs_background": "light"
     },
     "output_type": "display_data"
    }
   ],
   "source": [
    "import pandas as pd\n",
    "import numpy as np\n",
    "\n",
    "# Calculate shipping days\n",
    "Superstore['Shipping_Days'] = (Superstore['Ship Date'] - Superstore['Order Date']).dt.days\n",
    "\n",
    "# Set negative values or unrealistically high ones to NaN\n",
    "Superstore.loc[(Superstore['Shipping_Days'] < 0) | (Superstore['Shipping_Days'] > 60), 'Shipping_Days'] = np.nan\n",
    "\n",
    "# Optionally: Drop rows instead of NaN\n",
    "# df = df[(df['Shipping_Days'] >= 0) & (df['Shipping_Days'] <= 60)]\n",
    "\n",
    "# Check result\n",
    "print(Superstore['Shipping_Days'].describe())\n",
    "sns.boxplot(data=Superstore, x='Ship Mode', y='Shipping_Days')\n"
   ]
  }
 ],
 "metadata": {
  "kernelspec": {
   "display_name": "Python 3",
   "language": "python",
   "name": "python3"
  },
  "language_info": {
   "codemirror_mode": {
    "name": "ipython",
    "version": 3
   },
   "file_extension": ".py",
   "mimetype": "text/x-python",
   "name": "python",
   "nbconvert_exporter": "python",
   "pygments_lexer": "ipython3",
   "version": "3.8.8"
  }
 },
 "nbformat": 4,
 "nbformat_minor": 5
}
